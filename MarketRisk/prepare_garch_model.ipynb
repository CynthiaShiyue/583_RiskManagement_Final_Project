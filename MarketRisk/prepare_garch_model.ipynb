{
 "cells": [
  {
   "cell_type": "code",
   "execution_count": 2,
   "id": "908441db",
   "metadata": {},
   "outputs": [
    {
     "data": {
      "application/vnd.microsoft.datawrangler.viewer.v0+json": {
       "columns": [
        {
         "name": "index",
         "rawType": "int64",
         "type": "integer"
        },
        {
         "name": "Date",
         "rawType": "object",
         "type": "string"
        },
        {
         "name": "QQQ_Return",
         "rawType": "float64",
         "type": "float"
        },
        {
         "name": "QQQ_Realized_Volatility",
         "rawType": "float64",
         "type": "float"
        },
        {
         "name": "QQQ_Volume",
         "rawType": "int64",
         "type": "integer"
        },
        {
         "name": "VIX",
         "rawType": "float64",
         "type": "float"
        },
        {
         "name": "RSI_14",
         "rawType": "float64",
         "type": "float"
        },
        {
         "name": "VXN",
         "rawType": "float64",
         "type": "float"
        },
        {
         "name": "FedRate",
         "rawType": "float64",
         "type": "float"
        }
       ],
       "conversionMethod": "pd.DataFrame",
       "ref": "64cb1ee8-5887-42e6-9e13-f9586922730e",
       "rows": [
        [
         "0",
         "2018-02-22",
         "-0.0001211153185022",
         "0.2839179971488881",
         "37074400",
         "18.71999931335449",
         "45.694865828796935",
         "20.90999984741211",
         "1.6050000190734863"
        ],
        [
         "1",
         "2018-02-23",
         "0.020448900351627",
         "0.2927765715439928",
         "50096900",
         "16.489999771118164",
         "54.84744419783584",
         "18.15999984741211",
         "1.6050000190734863"
        ],
        [
         "2",
         "2018-02-26",
         "0.0132604960151252",
         "0.2962904935049142",
         "39266700",
         "15.800000190734863",
         "68.91567406799044",
         "18.1200008392334",
         "1.6080000400543213"
        ],
        [
         "3",
         "2018-02-27",
         "-0.0123829330735868",
         "0.2946519961697114",
         "42209900",
         "18.59000015258789",
         "59.841919661479416",
         "20.489999771118164",
         "1.6349999904632568"
        ],
        [
         "4",
         "2018-02-28",
         "-0.0064168928834416",
         "0.2949872233639198",
         "42936300",
         "19.850000381469727",
         "61.92109589818502",
         "22.01000022888184",
         "1.618000030517578"
        ]
       ],
       "shape": {
        "columns": 8,
        "rows": 5
       }
      },
      "text/html": [
       "<div>\n",
       "<style scoped>\n",
       "    .dataframe tbody tr th:only-of-type {\n",
       "        vertical-align: middle;\n",
       "    }\n",
       "\n",
       "    .dataframe tbody tr th {\n",
       "        vertical-align: top;\n",
       "    }\n",
       "\n",
       "    .dataframe thead th {\n",
       "        text-align: right;\n",
       "    }\n",
       "</style>\n",
       "<table border=\"1\" class=\"dataframe\">\n",
       "  <thead>\n",
       "    <tr style=\"text-align: right;\">\n",
       "      <th></th>\n",
       "      <th>Date</th>\n",
       "      <th>QQQ_Return</th>\n",
       "      <th>QQQ_Realized_Volatility</th>\n",
       "      <th>QQQ_Volume</th>\n",
       "      <th>VIX</th>\n",
       "      <th>RSI_14</th>\n",
       "      <th>VXN</th>\n",
       "      <th>FedRate</th>\n",
       "    </tr>\n",
       "  </thead>\n",
       "  <tbody>\n",
       "    <tr>\n",
       "      <th>0</th>\n",
       "      <td>2018-02-22</td>\n",
       "      <td>-0.000121</td>\n",
       "      <td>0.283918</td>\n",
       "      <td>37074400</td>\n",
       "      <td>18.719999</td>\n",
       "      <td>45.694866</td>\n",
       "      <td>20.910000</td>\n",
       "      <td>1.605</td>\n",
       "    </tr>\n",
       "    <tr>\n",
       "      <th>1</th>\n",
       "      <td>2018-02-23</td>\n",
       "      <td>0.020449</td>\n",
       "      <td>0.292777</td>\n",
       "      <td>50096900</td>\n",
       "      <td>16.490000</td>\n",
       "      <td>54.847444</td>\n",
       "      <td>18.160000</td>\n",
       "      <td>1.605</td>\n",
       "    </tr>\n",
       "    <tr>\n",
       "      <th>2</th>\n",
       "      <td>2018-02-26</td>\n",
       "      <td>0.013260</td>\n",
       "      <td>0.296290</td>\n",
       "      <td>39266700</td>\n",
       "      <td>15.800000</td>\n",
       "      <td>68.915674</td>\n",
       "      <td>18.120001</td>\n",
       "      <td>1.608</td>\n",
       "    </tr>\n",
       "    <tr>\n",
       "      <th>3</th>\n",
       "      <td>2018-02-27</td>\n",
       "      <td>-0.012383</td>\n",
       "      <td>0.294652</td>\n",
       "      <td>42209900</td>\n",
       "      <td>18.590000</td>\n",
       "      <td>59.841920</td>\n",
       "      <td>20.490000</td>\n",
       "      <td>1.635</td>\n",
       "    </tr>\n",
       "    <tr>\n",
       "      <th>4</th>\n",
       "      <td>2018-02-28</td>\n",
       "      <td>-0.006417</td>\n",
       "      <td>0.294987</td>\n",
       "      <td>42936300</td>\n",
       "      <td>19.850000</td>\n",
       "      <td>61.921096</td>\n",
       "      <td>22.010000</td>\n",
       "      <td>1.618</td>\n",
       "    </tr>\n",
       "  </tbody>\n",
       "</table>\n",
       "</div>"
      ],
      "text/plain": [
       "         Date  QQQ_Return  QQQ_Realized_Volatility  QQQ_Volume        VIX  \\\n",
       "0  2018-02-22   -0.000121                 0.283918    37074400  18.719999   \n",
       "1  2018-02-23    0.020449                 0.292777    50096900  16.490000   \n",
       "2  2018-02-26    0.013260                 0.296290    39266700  15.800000   \n",
       "3  2018-02-27   -0.012383                 0.294652    42209900  18.590000   \n",
       "4  2018-02-28   -0.006417                 0.294987    42936300  19.850000   \n",
       "\n",
       "      RSI_14        VXN  FedRate  \n",
       "0  45.694866  20.910000    1.605  \n",
       "1  54.847444  18.160000    1.605  \n",
       "2  68.915674  18.120001    1.608  \n",
       "3  59.841920  20.490000    1.635  \n",
       "4  61.921096  22.010000    1.618  "
      ]
     },
     "execution_count": 2,
     "metadata": {},
     "output_type": "execute_result"
    }
   ],
   "source": [
    "import pandas as pd\n",
    "\n",
    "main_data=pd.read_csv(\"../Data/QQQ_MarketRisk.csv\")\n",
    "main_data.head()"
   ]
  },
  {
   "cell_type": "markdown",
   "id": "2334af79",
   "metadata": {},
   "source": [
    "1. Test for stationarity: ADF test "
   ]
  },
  {
   "cell_type": "code",
   "execution_count": 3,
   "id": "294d8a05",
   "metadata": {},
   "outputs": [
    {
     "name": "stdout",
     "output_type": "stream",
     "text": [
      "p-value: 7.243407513311069e-25\n"
     ]
    }
   ],
   "source": [
    "from statsmodels.tsa.stattools import adfuller\n",
    "\n",
    "\n",
    "result = adfuller(main_data[\"QQQ_Return\"]) \n",
    "print('p-value:', result[1])"
   ]
  },
  {
   "cell_type": "markdown",
   "id": "add3b5f8",
   "metadata": {},
   "source": [
    "2. Testing for ARCH Effects"
   ]
  },
  {
   "cell_type": "code",
   "execution_count": 4,
   "id": "ad7288bf",
   "metadata": {},
   "outputs": [
    {
     "name": "stdout",
     "output_type": "stream",
     "text": [
      "p-value: 1.2149365544983e-100\n"
     ]
    },
    {
     "name": "stderr",
     "output_type": "stream",
     "text": [
      "/var/folders/76/jd772b6x14q309k0qnxn4k0r0000gq/T/ipykernel_84416/3726756681.py:3: FutureWarning: the 'maxlag' keyword is deprecated, use 'nlags' instead.\n",
      "  arch_test = het_arch(main_data[\"QQQ_Return\"], maxlag=lag_order)\n"
     ]
    }
   ],
   "source": [
    "from statsmodels.stats.diagnostic import het_arch\n",
    "lag_order = 10 \n",
    "arch_test = het_arch(main_data[\"QQQ_Return\"], maxlag=lag_order)\n",
    "print('p-value:', arch_test[1])  "
   ]
  },
  {
   "cell_type": "markdown",
   "id": "ccb4c6cc",
   "metadata": {},
   "source": [
    "3. basic GARCH(1,1)"
   ]
  },
  {
   "cell_type": "code",
   "execution_count": 5,
   "id": "c6702da3",
   "metadata": {},
   "outputs": [
    {
     "name": "stderr",
     "output_type": "stream",
     "text": [
      "/Users/CynthiaSY/miniforge3/lib/python3.12/site-packages/arch/univariate/base.py:309: DataScaleWarning: y is poorly scaled, which may affect convergence of the optimizer when\n",
      "estimating the model parameters. The scale of y is 0.0002314. Parameter\n",
      "estimation work better when this value is between 1 and 1000. The recommended\n",
      "rescaling is 100 * y.\n",
      "\n",
      "This warning can be disabled by either rescaling y before initializing the\n",
      "model or by setting rescale=False.\n",
      "\n",
      "  warnings.warn(\n"
     ]
    },
    {
     "data": {
      "text/plain": [
       "h.1    0.013119\n",
       "Name: 1724, dtype: float64"
      ]
     },
     "execution_count": 5,
     "metadata": {},
     "output_type": "execute_result"
    }
   ],
   "source": [
    "from arch import arch_model\n",
    "model = arch_model(main_data[\"QQQ_Return\"], vol='Garch', p=1, q=1)  # GARCH(1,1)\n",
    "result = model.fit(update_freq=5, disp='on')\n",
    "\n",
    "forecasts = result.forecast(horizon=1)\n",
    "predicted_volatility = forecasts.variance.iloc[-1] ** 0.5\n",
    "\n",
    "predicted_volatility"
   ]
  }
 ],
 "metadata": {
  "kernelspec": {
   "display_name": "base",
   "language": "python",
   "name": "python3"
  },
  "language_info": {
   "codemirror_mode": {
    "name": "ipython",
    "version": 3
   },
   "file_extension": ".py",
   "mimetype": "text/x-python",
   "name": "python",
   "nbconvert_exporter": "python",
   "pygments_lexer": "ipython3",
   "version": "3.12.6"
  }
 },
 "nbformat": 4,
 "nbformat_minor": 5
}
