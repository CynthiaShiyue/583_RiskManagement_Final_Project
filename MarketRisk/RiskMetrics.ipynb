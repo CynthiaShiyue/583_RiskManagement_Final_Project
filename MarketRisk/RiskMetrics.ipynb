{
 "cells": [
  {
   "cell_type": "code",
   "execution_count": 14,
   "metadata": {},
   "outputs": [
    {
     "name": "stdout",
     "output_type": "stream",
     "text": [
      "<class 'pandas.core.frame.DataFrame'>\n",
      "RangeIndex: 1725 entries, 0 to 1724\n",
      "Data columns (total 8 columns):\n",
      " #   Column                   Non-Null Count  Dtype  \n",
      "---  ------                   --------------  -----  \n",
      " 0   Date                     1725 non-null   object \n",
      " 1   QQQ_Return               1725 non-null   float64\n",
      " 2   QQQ_Realized_Volatility  1725 non-null   float64\n",
      " 3   QQQ_Volume               1725 non-null   int64  \n",
      " 4   VIX                      1725 non-null   float64\n",
      " 5   RSI_14                   1725 non-null   float64\n",
      " 6   VXN                      1725 non-null   float64\n",
      " 7   FedRate                  1725 non-null   float64\n",
      "dtypes: float64(6), int64(1), object(1)\n",
      "memory usage: 107.9+ KB\n"
     ]
    }
   ],
   "source": [
    "import pandas as pd\n",
    "\n",
    "main_data=pd.read_csv(\"Data/QQQ_MarketRisk.csv\")\n",
    "\n",
    "main_data.info()"
   ]
  },
  {
   "cell_type": "code",
   "execution_count": 15,
   "metadata": {},
   "outputs": [
    {
     "name": "stdout",
     "output_type": "stream",
     "text": [
      "Training: 1224 rows\n",
      "Validation: 250 rows\n",
      "Test: 251 rows\n"
     ]
    }
   ],
   "source": [
    "train_set = main_data[(main_data['Date'] >= '2018-01-01') & (main_data['Date'] < '2022-12-31')]\n",
    "val_set   = main_data[(main_data['Date'] >= '2022-12-31') & (main_data['Date'] < '2023-12-31')]\n",
    "test_set  = main_data[(main_data['Date'] >= '2023-12-31')]\n",
    "\n",
    "print(f\"Training: {len(train_set)} rows\")\n",
    "print(f\"Validation: {len(val_set)} rows\")\n",
    "print(f\"Test: {len(test_set)} rows\")"
   ]
  },
  {
   "cell_type": "code",
   "execution_count": null,
   "metadata": {},
   "outputs": [],
   "source": [
    "# import numpy as np\n",
    "# import pandas as pd\n",
    "\n",
    "# def calculate_qqq_risk_metrics(df, return_col=\"QQQ_Return\", alpha=0.05):\n",
    "#     \"\"\"\n",
    "#     Calculate daily return (if needed), Value at Risk (VaR), and Expected Shortfall (ES)\n",
    "#     for a given QQQ return column in a DataFrame.\n",
    "\n",
    "#     Parameters:\n",
    "#         df (pd.DataFrame): DataFrame containing the QQQ return column\n",
    "#         return_col (str): Name of the column containing daily returns\n",
    "#         alpha (float): Significance level for VaR/ES (e.g., 0.05 for 95% confidence)\n",
    "\n",
    "#     Returns:\n",
    "#         dict: A dictionary with VaR and ES values\n",
    "#     \"\"\"\n",
    "#     returns = df[return_col].dropna().copy()\n",
    "\n",
    "#     var = np.percentile(returns, 100 * alpha)\n",
    "\n",
    "#     es = returns[returns <= var].mean()\n",
    "\n",
    "#     result = {\n",
    "#         \"VaR\": var,\n",
    "#         \"ES\": es,\n",
    "#         \"Confidence_Level\": f\"{int((1 - alpha) * 100)}%\"\n",
    "#     }\n",
    "#     return result\n"
   ]
  },
  {
   "cell_type": "code",
   "execution_count": 19,
   "metadata": {},
   "outputs": [
    {
     "name": "stdout",
     "output_type": "stream",
     "text": [
      "{'VaR': -0.02785447192552599, 'ES': -0.03913314014676585, 'Confidence_Level': '95%'}\n"
     ]
    }
   ],
   "source": [
    "from risk_metrics import calculate_qqq_risk_metrics\n",
    "import pandas as pd\n",
    "\n",
    "\n",
    "metrics = calculate_qqq_risk_metrics(train_set, return_col=\"QQQ_Return\", alpha=0.05)\n",
    "print(metrics)\n"
   ]
  },
  {
   "cell_type": "code",
   "execution_count": 17,
   "metadata": {},
   "outputs": [
    {
     "name": "stdout",
     "output_type": "stream",
     "text": [
      "{'VaR': -0.02785447192552599, 'ES': -0.03913314014676585, 'Confidence_Level': '95%'}\n"
     ]
    }
   ],
   "source": [
    "qqq_metrics = calculate_qqq_risk_metrics(train_set)\n",
    "print(qqq_metrics)\n"
   ]
  }
 ],
 "metadata": {
  "kernelspec": {
   "display_name": "base",
   "language": "python",
   "name": "python3"
  },
  "language_info": {
   "codemirror_mode": {
    "name": "ipython",
    "version": 3
   },
   "file_extension": ".py",
   "mimetype": "text/x-python",
   "name": "python",
   "nbconvert_exporter": "python",
   "pygments_lexer": "ipython3",
   "version": "3.12.6"
  }
 },
 "nbformat": 4,
 "nbformat_minor": 2
}
