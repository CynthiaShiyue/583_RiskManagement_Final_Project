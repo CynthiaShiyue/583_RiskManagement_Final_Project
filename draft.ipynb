{
 "cells": [
  {
   "cell_type": "code",
   "execution_count": 3,
   "id": "3c974aba",
   "metadata": {},
   "outputs": [
    {
     "name": "stderr",
     "output_type": "stream",
     "text": [
      "[*********************100%***********************]  1 of 1 completed"
     ]
    },
    {
     "name": "stdout",
     "output_type": "stream",
     "text": [
      "Unhedged total P&L: -34.58\n",
      "Hedged   total P&L: -202.32\n",
      "\n",
      "Unhedged P&L variance: 100.13310\n",
      "Hedged   P&L variance: 202.67938\n",
      "\n",
      "❌ Hedging increased net P&L magnitude.\n",
      "❌ Hedging increased daily P&L variance.\n"
     ]
    },
    {
     "name": "stderr",
     "output_type": "stream",
     "text": [
      "\n",
      "/var/folders/_5/g20j99hd5j91r849_d_zgb040000gn/T/ipykernel_81042/3408225046.py:16: DeprecationWarning: Conversion of an array with ndim > 0 to a scalar is deprecated, and will error in future. Ensure you extract a single element from your array before performing this operation. (Deprecated NumPy 1.25.)\n",
      "  return float(S*norm.cdf(d1) - K*np.exp(-r*T)*norm.cdf(d2))\n",
      "/var/folders/_5/g20j99hd5j91r849_d_zgb040000gn/T/ipykernel_81042/3408225046.py:25: DeprecationWarning: Conversion of an array with ndim > 0 to a scalar is deprecated, and will error in future. Ensure you extract a single element from your array before performing this operation. (Deprecated NumPy 1.25.)\n",
      "  return float(norm.cdf(d1) if option=='call' else norm.cdf(d1)-1)\n"
     ]
    }
   ],
   "source": [
    "# --- prerequisites: pip install yfinance numpy pandas scipy\n",
    "\n",
    "import yfinance as yf\n",
    "import numpy as np\n",
    "import pandas as pd\n",
    "from scipy.stats import norm\n",
    "from datetime import datetime\n",
    "\n",
    "# Black-Scholes price & delta\n",
    "def bs_price(S, K, T, r, sigma, option='call'):\n",
    "    if T <= 0:\n",
    "        return float(max(S - K, 0) if option=='call' else max(K - S, 0))\n",
    "    d1 = (np.log(S/K) + (r + 0.5*sigma**2)*T) / (sigma*np.sqrt(T))\n",
    "    d2 = d1 - sigma*np.sqrt(T)\n",
    "    if option=='call':\n",
    "        return float(S*norm.cdf(d1) - K*np.exp(-r*T)*norm.cdf(d2))\n",
    "    else:\n",
    "        return float(K*np.exp(-r*T)*norm.cdf(-d2) - S*norm.cdf(-d1))\n",
    "\n",
    "def bs_delta(S, K, T, r, sigma, option='call'):\n",
    "    if T <= 0:\n",
    "        if option=='call': return float(1.0 if S>K else 0.0)\n",
    "        else:             return float(-1.0 if S<K else 0.0)\n",
    "    d1 = (np.log(S/K) + (r + 0.5*sigma**2)*T) / (sigma*np.sqrt(T))\n",
    "    return float(norm.cdf(d1) if option=='call' else norm.cdf(d1)-1)\n",
    "\n",
    "# Parameters\n",
    "ticker = \"SPY\"\n",
    "strike = 450\n",
    "expiry = \"2025-06-20\"\n",
    "vol    = 0.15\n",
    "r      = 0.01\n",
    "start  = \"2025-01-01\"\n",
    "\n",
    "# 1) Fetch underlying prices\n",
    "serie = yf.download(ticker, start=start, end=expiry)[\"Close\"].dropna()\n",
    "dates = serie.index\n",
    "prices = serie.values\n",
    "\n",
    "# 2) Time to expiry in years (≈252 trading days)\n",
    "exp_dt = datetime.fromisoformat(expiry)\n",
    "T = np.array([(exp_dt - d).days/252 for d in dates])\n",
    "\n",
    "# 3) BS price & delta each day\n",
    "bs_prices = np.array([bs_price(S=prices[i], K=strike, T=T[i], r=r, sigma=vol)\n",
    "                      for i in range(len(prices))])\n",
    "deltas    = np.array([bs_delta(S=prices[i], K=strike, T=T[i], r=r, sigma=vol)\n",
    "                      for i in range(len(prices))])\n",
    "\n",
    "# 4) Daily P&L\n",
    "delta_C = bs_prices[1:] - bs_prices[:-1]\n",
    "delta_S = prices[1:]    - prices[:-1]\n",
    "pnl_unhedged = delta_C\n",
    "pnl_hedged   = delta_C - deltas[:-1]*delta_S\n",
    "\n",
    "# 5) Totals & risk\n",
    "total_unhedged = float(bs_prices[-1] - bs_prices[0])\n",
    "total_hedged   = float(pnl_hedged.sum())\n",
    "var_unhedged   = float(np.var(pnl_unhedged))\n",
    "var_hedged     = float(np.var(pnl_hedged))\n",
    "\n",
    "# 6) Print & verdict\n",
    "print(f\"Unhedged total P&L: {total_unhedged:.2f}\")\n",
    "print(f\"Hedged   total P&L: {total_hedged:.2f}\\n\")\n",
    "\n",
    "print(f\"Unhedged P&L variance: {var_unhedged:.5f}\")\n",
    "print(f\"Hedged   P&L variance: {var_hedged:.5f}\\n\")\n",
    "\n",
    "if abs(total_hedged) < abs(total_unhedged):\n",
    "    print(\"✔️ Hedging reduced net P&L magnitude.\")\n",
    "else:\n",
    "    print(\"❌ Hedging increased net P&L magnitude.\")\n",
    "\n",
    "if var_hedged < var_unhedged:\n",
    "    print(\"✔️ Hedging reduced daily P&L variance (lower risk).\")\n",
    "else:\n",
    "    print(\"❌ Hedging increased daily P&L variance.\")\n"
   ]
  }
 ],
 "metadata": {
  "kernelspec": {
   "display_name": "base",
   "language": "python",
   "name": "python3"
  },
  "language_info": {
   "codemirror_mode": {
    "name": "ipython",
    "version": 3
   },
   "file_extension": ".py",
   "mimetype": "text/x-python",
   "name": "python",
   "nbconvert_exporter": "python",
   "pygments_lexer": "ipython3",
   "version": "3.12.5"
  }
 },
 "nbformat": 4,
 "nbformat_minor": 5
}
