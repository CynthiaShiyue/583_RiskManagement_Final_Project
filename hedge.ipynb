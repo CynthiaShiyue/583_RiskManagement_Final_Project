{
 "cells": [
  {
   "cell_type": "code",
   "execution_count": null,
   "id": "db040a45",
   "metadata": {},
   "outputs": [],
   "source": [
    "import pandas as pd"
   ]
  },
  {
   "cell_type": "code",
   "execution_count": null,
   "id": "0bc88206",
   "metadata": {},
   "outputs": [],
   "source": [
    "# === Step 1: Load and prepare the option data ===\n",
    "\n",
    "# Load CSV made by Cynthia\n",
    "option_data = pd.read_csv(\"Data/qqq_option_data_2018_2023.csv\")\n",
    "\n",
    "# Make sure the date columns are formatted as dates\n",
    "option_data['date'] = pd.to_datetime(option_data['date'])\n",
    "option_data['exdate'] = pd.to_datetime(option_data['exdate'])\n",
    "\n",
    "# Set your analysis date (we can change this)\n",
    "analysis_date = pd.to_datetime(\"2020-03-16\")  ############### Example date #############"
   ]
  },
  {
   "cell_type": "code",
   "execution_count": null,
   "id": "7d2069c9",
   "metadata": {},
   "outputs": [
    {
     "name": "stdout",
     "output_type": "stream",
     "text": [
      "Options data for 2020-03-16:\n",
      "      exdate cp_flag  strike_price     delta     gamma\n",
      "0 2020-04-17       C      202000.0  0.185171  0.008684\n",
      "1 2020-04-17       C      203000.0  0.181126  0.008473\n",
      "2 2020-04-17       C      204000.0  0.165611  0.008246\n",
      "3 2020-04-17       C      205000.0  0.143826  0.007926\n",
      "4 2020-04-17       C      206000.0  0.144982  0.007754\n"
     ]
    }
   ],
   "source": [
    "import pandas as pd\n",
    "\n",
    "# === Step 1: Load and prepare the option data ===\n",
    "\n",
    "# Load CSV\n",
    "option_data = pd.read_csv(\"Data/qqq_option_data_2018_2023.csv\")\n",
    "\n",
    "# Convert date columns to datetime\n",
    "option_data['date'] = pd.to_datetime(option_data['date'])\n",
    "option_data['exdate'] = pd.to_datetime(option_data['exdate'])\n",
    "\n",
    "# Set your analysis date (you can change this)\n",
    "analysis_date = pd.to_datetime(\"2020-03-16\")  # Example date\n",
    "\n",
    "# Filter for that specific date\n",
    "filtered_data = option_data[option_data['date'] == analysis_date].copy()\n",
    "\n",
    "# Drop any rows with missing delta or gamma\n",
    "filtered_data = filtered_data.dropna(subset=['delta', 'gamma'])\n",
    "\n",
    "# Reset index\n",
    "filtered_data.reset_index(drop=True, inplace=True)\n",
    "\n",
    "# Preview\n",
    "print(f\"Options data for {analysis_date.date()}:\")\n",
    "print(filtered_data[['exdate', 'cp_flag', 'strike_price', 'delta', 'gamma']].head())\n"
   ]
  }
 ],
 "metadata": {
  "kernelspec": {
   "display_name": "base",
   "language": "python",
   "name": "python3"
  },
  "language_info": {
   "codemirror_mode": {
    "name": "ipython",
    "version": 3
   },
   "file_extension": ".py",
   "mimetype": "text/x-python",
   "name": "python",
   "nbconvert_exporter": "python",
   "pygments_lexer": "ipython3",
   "version": "3.12.5"
  }
 },
 "nbformat": 4,
 "nbformat_minor": 5
}
