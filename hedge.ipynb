{
 "cells": [
  {
   "cell_type": "code",
   "execution_count": 4,
   "id": "db040a45",
   "metadata": {},
   "outputs": [],
   "source": [
    "import pandas as pd"
   ]
  },
  {
   "cell_type": "code",
   "execution_count": 5,
   "id": "cbdac951",
   "metadata": {},
   "outputs": [
    {
     "name": "stdout",
     "output_type": "stream",
     "text": [
      "\n",
      "Options data for 2018-12-31:\n",
      "      exdate cp_flag  strike_price     delta     gamma\n",
      "0 2019-01-25       P      156000.0 -0.562582  0.032647\n",
      "1 2019-01-25       P      156500.0 -0.579636  0.032672\n",
      "2 2019-01-25       P      157000.0 -0.596752  0.032623\n",
      "3 2019-01-25       P      157500.0 -0.613719  0.032466\n",
      "4 2019-01-25       P      158000.0 -0.630612  0.032233\n"
     ]
    }
   ],
   "source": [
    "# === Step 1: Load and prepare the option data ===\n",
    "\n",
    "# Load the option data CSV\n",
    "option_data = pd.read_csv(\"Data/qqq_option_data_2018_2023.csv\")\n",
    "\n",
    "# Convert date columns to datetime\n",
    "option_data['date'] = pd.to_datetime(option_data['date'])\n",
    "option_data['exdate'] = pd.to_datetime(option_data['exdate'])\n",
    "\n",
    "# Prompt the user for the analysis date\n",
    "user_input = input(\"Enter an analysis date (YYYY-MM-DD): \")\n",
    "analysis_date = pd.to_datetime(user_input)\n",
    "\n",
    "# Check if the date exists in the dataset\n",
    "available_dates = option_data['date'].unique()\n",
    "if analysis_date not in available_dates:\n",
    "    raise ValueError(f\"Date {analysis_date.date()} not found in dataset. Available dates range from {min(available_dates).date()} to {max(available_dates).date()}.\")\n",
    "\n",
    "# Filter the data for that specific date\n",
    "filtered_data = option_data[option_data['date'] == analysis_date].copy()\n",
    "\n",
    "# Drop any rows with missing delta or gamma\n",
    "filtered_data = filtered_data.dropna(subset=['delta', 'gamma'])\n",
    "\n",
    "# Reset index\n",
    "filtered_data.reset_index(drop=True, inplace=True)\n",
    "\n",
    "# Preview the cleaned data\n",
    "print(f\"\\nOptions data for {analysis_date.date()}:\")\n",
    "print(filtered_data[['exdate', 'cp_flag', 'strike_price', 'delta', 'gamma']].head())\n"
   ]
  },
  {
   "cell_type": "code",
   "execution_count": 7,
   "id": "eb2132d2",
   "metadata": {},
   "outputs": [
    {
     "name": "stdout",
     "output_type": "stream",
     "text": [
      "\n",
      "Portfolio defined for 2018-12-31:\n",
      "- Portfolio value: $10,000,000.00\n",
      "- Estimated QQQ price: $1,543.91\n",
      "- Number of shares: 6,477.08\n",
      "- Portfolio delta: 6,477.08\n"
     ]
    }
   ],
   "source": [
    "# === Step 2: Define your portfolio ===\n",
    "\n",
    "# Set your simulated portfolio value and volatility target\n",
    "portfolio_value = 10_000_000   # $10 million in QQQ\n",
    "vol_target = 0.20              # 20% annual volatility target\n",
    "\n",
    "# Fix strike price scale (if needed)\n",
    "# QQQ strike prices may be stored as cents or multiplied by 1000\n",
    "if filtered_data['strike_price'].max() > 1000:\n",
    "    filtered_data['strike_price'] = filtered_data['strike_price'] / 100\n",
    "\n",
    "# Filter for near-the-money (ATM) options to estimate QQQ price\n",
    "# Estimate QQQ price from option data (midpoint of strike prices near-the-money)\n",
    "# We'll use the average strike of ATM options for simplicity\n",
    "# ATM options typically have delta between ~0.4 and ~0.6\n",
    "# You can customize this based on how close to the market price you want\n",
    "atm_options = filtered_data[(filtered_data['delta'] > 0.4) & (filtered_data['delta'] < 0.6)]\n",
    "\n",
    "# Handle case where no ATM options are found\n",
    "if atm_options.empty:\n",
    "    raise ValueError(\"No ATM options found for this date. Try another date or adjust delta range.\")\n",
    "\n",
    "# Estimate QQQ price using the average strike price of ATM options\n",
    "estimated_qqq_price = atm_options['strike_price'].mean()\n",
    "\n",
    "# Calculate number of QQQ shares in the portfolio\n",
    "num_shares = portfolio_value / estimated_qqq_price\n",
    "\n",
    "# Assume each QQQ share has delta ≈ +1\n",
    "portfolio_delta = num_shares * 1  # Adjust if using actual QQQ delta\n",
    "\n",
    "# Display the results\n",
    "print(f\"\\nPortfolio defined for {analysis_date.date()}:\")\n",
    "print(f\"- Portfolio value: ${portfolio_value:,.2f}\")\n",
    "print(f\"- Estimated QQQ price: ${estimated_qqq_price:,.2f}\")\n",
    "print(f\"- Number of shares: {num_shares:,.2f}\")\n",
    "print(f\"- Portfolio delta: {portfolio_delta:,.2f}\")\n"
   ]
  },
  {
   "cell_type": "code",
   "execution_count": 8,
   "id": "0c422eb5",
   "metadata": {},
   "outputs": [
    {
     "name": "stdout",
     "output_type": "stream",
     "text": [
      "\n",
      "Top Put Options for Delta Hedging on 2018-12-31:\n",
      "      exdate  strike_price     delta     gamma\n",
      "0 2019-01-25        1560.0 -0.562582  0.032647\n",
      "1 2019-01-25        1565.0 -0.579636  0.032672\n",
      "2 2019-01-25        1570.0 -0.596752  0.032623\n",
      "3 2019-01-25        1575.0 -0.613719  0.032466\n",
      "4 2019-01-25        1580.0 -0.630612  0.032233\n",
      "\n",
      "Top High-Gamma Options for Gamma Hedging on 2018-12-31:\n",
      "   cp_flag     exdate  strike_price     delta     gamma\n",
      "79       C 2019-01-25        1565.0  0.417512  0.034303\n",
      "78       C 2019-01-25        1560.0  0.435435  0.034285\n",
      "77       C 2019-01-25        1555.0  0.453147  0.034229\n",
      "80       C 2019-01-25        1570.0  0.399627  0.034205\n",
      "76       C 2019-01-25        1550.0  0.470649  0.034134\n"
     ]
    }
   ],
   "source": [
    "# === Step 3: Select Hedging Options ===\n",
    "\n",
    "# 1. For Delta Hedging → pick PUT options with negative delta\n",
    "put_options = filtered_data[(filtered_data['cp_flag'] == 'P') & (filtered_data['delta'] < 0)]\n",
    "\n",
    "# 2. For Gamma Hedging → pick ATM calls or puts with high gamma (usually near 0.4 < delta < 0.6)\n",
    "high_gamma_options = filtered_data[(filtered_data['gamma'] > filtered_data['gamma'].quantile(0.90))]\n",
    "\n",
    "# Optional: sort by gamma to pick the highest one\n",
    "high_gamma_options = high_gamma_options.sort_values(by='gamma', ascending=False)\n",
    "\n",
    "# Preview selections\n",
    "print(f\"\\nTop Put Options for Delta Hedging on {analysis_date.date()}:\")\n",
    "print(put_options[['exdate', 'strike_price', 'delta', 'gamma']].head())\n",
    "\n",
    "print(f\"\\nTop High-Gamma Options for Gamma Hedging on {analysis_date.date()}:\")\n",
    "print(high_gamma_options[['cp_flag', 'exdate', 'strike_price', 'delta', 'gamma']].head())\n"
   ]
  },
  {
   "cell_type": "code",
   "execution_count": 10,
   "id": "6fce7ca7",
   "metadata": {},
   "outputs": [
    {
     "name": "stdout",
     "output_type": "stream",
     "text": [
      " Delta Hedge Options:\n",
      "Put #1: delta=-0.5626, strike=1560.0, contracts needed=11513.13\n",
      "Put #2: delta=-0.5796, strike=1565.0, contracts needed=11174.39\n",
      "Put #3: delta=-0.5968, strike=1570.0, contracts needed=10853.88\n",
      "Put #4: delta=-0.6137, strike=1575.0, contracts needed=10553.82\n",
      "Put #5: delta=-0.6306, strike=1580.0, contracts needed=10271.10\n",
      "Gamma Hedge Options:\n",
      "Option #1: gamma=0.03430, strike=1565.0, contracts needed=377.64\n",
      "Option #2: gamma=0.03429, strike=1560.0, contracts needed=377.84\n",
      "Option #3: gamma=0.03423, strike=1555.0, contracts needed=378.46\n",
      "Option #4: gamma=0.03420, strike=1570.0, contracts needed=378.72\n",
      "Option #5: gamma=0.03413, strike=1550.0, contracts needed=379.51\n"
     ]
    }
   ],
   "source": [
    "# === Step 4: Calculate Hedge Ratios ===\n",
    "\n",
    "# Define a function to calculate contracts needed for delta and gamma hedging\n",
    "def calculate_hedge_ratios(portfolio_delta, portfolio_gamma, option_row):\n",
    "    \"\"\"\n",
    "    Given a selected option row, return delta and gamma hedge contracts needed.\n",
    "    \"\"\"\n",
    "    delta = option_row['delta']\n",
    "    gamma = option_row['gamma']\n",
    "    \n",
    "    delta_hedge = portfolio_delta / abs(delta) if delta != 0 else float('inf')\n",
    "    gamma_hedge = portfolio_gamma / gamma if gamma != 0 else float('inf')\n",
    "    \n",
    "    return delta_hedge, gamma_hedge\n",
    "\n",
    "# Estimate portfolio gamma (you can adjust this assumption or calculate it from ETF data)\n",
    "portfolio_gamma = num_shares * 0.002  # assuming ~0.002 gamma per QQQ share\n",
    "\n",
    "# === Loop through top put options for delta hedging ===\n",
    "print(\" Delta Hedge Options:\")\n",
    "for i in range(min(5, len(put_options))):\n",
    "    option = put_options.iloc[i]\n",
    "    delta_contracts, _ = calculate_hedge_ratios(portfolio_delta, portfolio_gamma, option)\n",
    "    print(f\"Put #{i+1}: delta={option['delta']:.4f}, strike={option['strike_price']}, contracts needed={delta_contracts:.2f}\")\n",
    "\n",
    "# === Loop through top high-gamma options for gamma hedging ===\n",
    "print(\"Gamma Hedge Options:\")\n",
    "for i in range(min(5, len(high_gamma_options))):\n",
    "    option = high_gamma_options.iloc[i]\n",
    "    _, gamma_contracts = calculate_hedge_ratios(portfolio_delta, portfolio_gamma, option)\n",
    "    print(f\"Option #{i+1}: gamma={option['gamma']:.5f}, strike={option['strike_price']}, contracts needed={gamma_contracts:.2f}\")\n"
   ]
  },
  {
   "cell_type": "code",
   "execution_count": 11,
   "id": "6d13c899",
   "metadata": {},
   "outputs": [
    {
     "name": "stdout",
     "output_type": "stream",
     "text": [
      "\n",
      " Hedge Plan Summary:\n",
      "   type  strike_price cp_flag     delta     gamma  contracts_needed hedge_type\n",
      "0   put        1560.0       P -0.562582  0.032647      11513.125587      delta\n",
      "1   put        1565.0       P -0.579636  0.032672      11174.387407      delta\n",
      "2   put        1570.0       P -0.596752  0.032623      10853.884392      delta\n",
      "3   put        1575.0       P -0.613719  0.032466      10553.815702      delta\n",
      "4   put        1580.0       P -0.630612  0.032233      10271.097313      delta\n",
      "5  call        1565.0       C  0.417512  0.034303        377.639111      gamma\n",
      "6  call        1560.0       C  0.435435  0.034285        377.837376      gamma\n",
      "7  call        1555.0       C  0.453147  0.034229        378.455533      gamma\n",
      "8  call        1570.0       C  0.399627  0.034205        378.721077      gamma\n",
      "9  call        1550.0       C  0.470649  0.034134        379.508831      gamma\n"
     ]
    }
   ],
   "source": [
    "# === Step 5: Store & Output Hedge Plan ===\n",
    "\n",
    "# Create a list to hold hedge plan info\n",
    "hedge_plan = []\n",
    "\n",
    "# Loop through top 5 delta hedge candidates\n",
    "for i in range(min(5, len(put_options))):\n",
    "    option = put_options.iloc[i]\n",
    "    delta_contracts, _ = calculate_hedge_ratios(portfolio_delta, portfolio_gamma, option)\n",
    "    hedge_plan.append({\n",
    "        'type': 'put',\n",
    "        'strike_price': option['strike_price'],\n",
    "        'cp_flag': option['cp_flag'],\n",
    "        'delta': option['delta'],\n",
    "        'gamma': option['gamma'],\n",
    "        'contracts_needed': delta_contracts,\n",
    "        'hedge_type': 'delta'\n",
    "    })\n",
    "\n",
    "# Loop through top 5 gamma hedge candidates\n",
    "for i in range(min(5, len(high_gamma_options))):\n",
    "    option = high_gamma_options.iloc[i]\n",
    "    _, gamma_contracts = calculate_hedge_ratios(portfolio_delta, portfolio_gamma, option)\n",
    "    hedge_plan.append({\n",
    "        'type': 'call' if option['cp_flag'] == 'C' else 'put',\n",
    "        'strike_price': option['strike_price'],\n",
    "        'cp_flag': option['cp_flag'],\n",
    "        'delta': option['delta'],\n",
    "        'gamma': option['gamma'],\n",
    "        'contracts_needed': gamma_contracts,\n",
    "        'hedge_type': 'gamma'\n",
    "    })\n",
    "\n",
    "# Convert to DataFrame\n",
    "hedge_df = pd.DataFrame(hedge_plan)\n",
    "\n",
    "# Display it\n",
    "print(\"\\n Hedge Plan Summary:\")\n",
    "print(hedge_df)\n",
    "\n",
    "# Optional: export to CSV\n",
    "# hedge_df.to_csv(f\"hedge_plan_{analysis_date.date()}.csv\", index=False)\n"
   ]
  },
  {
   "cell_type": "code",
   "execution_count": null,
   "id": "d5fa3566",
   "metadata": {},
   "outputs": [],
   "source": []
  }
 ],
 "metadata": {
  "kernelspec": {
   "display_name": "base",
   "language": "python",
   "name": "python3"
  },
  "language_info": {
   "codemirror_mode": {
    "name": "ipython",
    "version": 3
   },
   "file_extension": ".py",
   "mimetype": "text/x-python",
   "name": "python",
   "nbconvert_exporter": "python",
   "pygments_lexer": "ipython3",
   "version": "3.12.5"
  }
 },
 "nbformat": 4,
 "nbformat_minor": 5
}
