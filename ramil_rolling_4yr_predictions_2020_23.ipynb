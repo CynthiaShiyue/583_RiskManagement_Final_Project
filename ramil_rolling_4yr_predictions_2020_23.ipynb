{
 "cells": [
  {
   "cell_type": "code",
   "execution_count": 1,
   "id": "1e091eca",
   "metadata": {},
   "outputs": [],
   "source": [
    "import pandas as pd\n",
    "import numpy as np\n",
    "import xgboost as xgb\n",
    "from sklearn.metrics import (\n",
    "    mean_squared_error,\n",
    "    r2_score,\n",
    "    mean_absolute_error,\n",
    "    mean_absolute_percentage_error,\n",
    ")\n",
    "import warnings\n",
    "from pandas.errors import SettingWithCopyWarning\n",
    "\n",
    "# suppress pandas copy warnings\n",
    "warnings.simplefilter(action=\"ignore\", category=SettingWithCopyWarning)"
   ]
  },
  {
   "cell_type": "code",
   "execution_count": 2,
   "id": "dcbfa245",
   "metadata": {},
   "outputs": [],
   "source": [
    "\n",
    "# 1. LOAD EXPANDED DATASET & FILTER YEARS\n",
    "# ---------------------------------------------------\n",
    "mr = (\n",
    "    pd.read_csv(\n",
    "        \"updated_QQQ_MarketRisk.csv\",\n",
    "        parse_dates=[\"Date\"]\n",
    "    )\n",
    "    .sort_values(\"Date\")\n",
    "    .query(\"Date.dt.year >= 2015 and Date.dt.year <= 2023\")\n",
    "    .reset_index(drop=True)\n",
    ")"
   ]
  },
  {
   "cell_type": "code",
   "execution_count": 3,
   "id": "32483398",
   "metadata": {},
   "outputs": [
    {
     "name": "stdout",
     "output_type": "stream",
     "text": [
      "           Date  QQQ_Return  QQQ_Realized_Volatility  QQQ_Volume        VIX  \\\n",
      "1164 2019-10-09    0.009762                 0.152848    20147400  18.639999   \n",
      "1953 2022-11-25   -0.006579                 0.366570    15498800  20.500000   \n",
      "286  2016-04-13    0.012784                 0.128893    25356700  13.840000   \n",
      "1189 2019-11-13    0.000248                 0.092099    15774600  13.000000   \n",
      "83   2015-06-23    0.000813                 0.125085    18127900  12.110000   \n",
      "118  2015-08-12    0.003450                 0.136909    41889000  13.610000   \n",
      "1972 2022-12-22   -0.024465                 0.269826    60278400  21.969999   \n",
      "164  2015-10-16    0.004180                 0.189346    27091100  15.050000   \n",
      "357  2016-07-25    0.000088                 0.213713    12968100  12.870000   \n",
      "744  2018-02-07   -0.012938                 0.215796    91028300  27.730000   \n",
      "\n",
      "         RSI_14        VXN  FedRate  \n",
      "1164  40.075998  21.879999    1.628  \n",
      "1953  68.995505  26.790001    4.175  \n",
      "286   66.140339  16.260000    0.223  \n",
      "1189  81.249942  16.240000    1.535  \n",
      "83    53.430209  13.520000    0.008  \n",
      "118   41.984672  17.240000    0.090  \n",
      "1972  26.204978  27.350000    4.208  \n",
      "164   84.187990  17.200001    0.005  \n",
      "357   86.792250  15.600000    0.298  \n",
      "744   39.956933  24.730000    1.515  \n"
     ]
    }
   ],
   "source": [
    "print(mr.sample(10))"
   ]
  },
  {
   "cell_type": "code",
   "execution_count": 4,
   "id": "6fe83f85",
   "metadata": {},
   "outputs": [],
   "source": [
    "# 2. ENGINEER NEXT-DAY REALIZED VOLATILITY\n",
    "# ---------------------------------------------------\n",
    "mr[\"NextVol\"] = mr[\"QQQ_Realized_Volatility\"].shift(-1)"
   ]
  },
  {
   "cell_type": "code",
   "execution_count": 5,
   "id": "c713762b",
   "metadata": {},
   "outputs": [],
   "source": [
    "# 3. SELECT FEATURES & CLEAN\n",
    "# ---------------------------------------------------\n",
    "features = [\n",
    "    \"QQQ_Return\",\n",
    "    \"QQQ_Realized_Volatility\",\n",
    "    \"QQQ_Volume\",\n",
    "    \"VIX\",\n",
    "    \"RSI_14\",\n",
    "    \"VXN\",\n",
    "    \"FedRate\",\n",
    "]\n",
    "\n",
    "# coerce numeric, drop any rows missing features or target\n",
    "for col in features + [\"NextVol\"]:\n",
    "    mr[col] = pd.to_numeric(mr[col], errors=\"coerce\")\n",
    "\n",
    "mr.dropna(subset=features + [\"NextVol\"], inplace=True)\n",
    "mr.reset_index(drop=True, inplace=True)"
   ]
  },
  {
   "cell_type": "code",
   "execution_count": 6,
   "id": "a2ff7afa",
   "metadata": {},
   "outputs": [],
   "source": [
    "# 4. ROLLING 3-YEAR WINDOW → PREDICT ONLY FOR 2020–2023\n",
    "# ---------------------------------------------------\n",
    "results = []\n",
    "first_date = mr[\"Date\"].min()\n",
    "\n",
    "for _, row in mr.iterrows():\n",
    "    today = row[\"Date\"]\n",
    "    year  = today.year\n",
    "\n",
    "    # only record predictions in test window\n",
    "    if year < 2020 or year > 2023:\n",
    "        continue\n",
    "\n",
    "    # require 3 full years of history\n",
    "    if today < (first_date + pd.DateOffset(years=3)):\n",
    "        continue\n",
    "\n",
    "    # build train window [today - 3y, today)\n",
    "    window_start = today - pd.DateOffset(years=3)\n",
    "    train_df     = mr[(mr[\"Date\"] >= window_start) & (mr[\"Date\"] < today)]\n",
    "\n",
    "    # skip if too few training rows\n",
    "    if len(train_df) < 200:\n",
    "        continue\n",
    "\n",
    "    X_train = train_df[features]\n",
    "    y_train = train_df[\"NextVol\"]\n",
    "\n",
    "    # today's features → one‐step forecast\n",
    "    X_today = row[features].values.reshape(1, -1)\n",
    "    y_true  = row[\"NextVol\"]\n",
    "\n",
    "    # train & predict\n",
    "    model = xgb.XGBRegressor(\n",
    "        objective=\"reg:squarederror\",\n",
    "        eval_metric=\"rmse\",\n",
    "        n_estimators=50,\n",
    "        learning_rate=0.05,\n",
    "        random_state=42,\n",
    "    )\n",
    "    model.fit(X_train, y_train, verbose=False)\n",
    "    y_pred = model.predict(X_today)[0]\n",
    "\n",
    "    results.append({\n",
    "        \"Date\":              today,\n",
    "        \"PredictedNextVol\":  y_pred,\n",
    "        \"ActualNextVol\":     y_true\n",
    "    })"
   ]
  },
  {
   "cell_type": "code",
   "execution_count": 8,
   "id": "7c8e7d9b",
   "metadata": {},
   "outputs": [
    {
     "name": "stdout",
     "output_type": "stream",
     "text": [
      "Saved 1005 predictions → rolling_3yr_preds_2020_23.csv\n"
     ]
    }
   ],
   "source": [
    "# 5. ASSEMBLE & SAVE\n",
    "# ---------------------------------------------------\n",
    "out_df = pd.DataFrame(results)\n",
    "out_df.to_csv(\"rolling_4yr_preds_2020_23.csv\", index=False)\n",
    "print(f\"Saved {len(out_df)} predictions → rolling_3yr_preds_2020_23.csv\")"
   ]
  },
  {
   "cell_type": "code",
   "execution_count": 9,
   "id": "0ccabc9a",
   "metadata": {},
   "outputs": [
    {
     "name": "stdout",
     "output_type": "stream",
     "text": [
      "\n",
      "--- Test Metrics (2020–2023) ---\n",
      "Test MSE : 0.000778\n",
      "Test RMSE: 0.027893\n",
      "Test R²  : 0.9521\n",
      "Test MAE : 0.014613\n",
      "Test MAPE: 5.91%\n"
     ]
    }
   ],
   "source": [
    "# 6. COMPUTE TEST METRICS (2020–2023)\n",
    "# ---------------------------------------------------\n",
    "y_pred = out_df[\"PredictedNextVol\"]\n",
    "y_true = out_df[\"ActualNextVol\"]\n",
    "\n",
    "mse  = mean_squared_error(y_true, y_pred)\n",
    "rmse = np.sqrt(mse)\n",
    "r2   = r2_score(y_true, y_pred)\n",
    "mae  = mean_absolute_error(y_true, y_pred)\n",
    "mape = mean_absolute_percentage_error(y_true, y_pred)\n",
    "\n",
    "print(\"\\n--- Test Metrics (2020–2023) ---\")\n",
    "print(f\"Test MSE : {mse:.6f}\")\n",
    "print(f\"Test RMSE: {rmse:.6f}\")\n",
    "print(f\"Test R²  : {r2:.4f}\")\n",
    "print(f\"Test MAE : {mae:.6f}\")\n",
    "print(f\"Test MAPE: {mape:.2%}\")"
   ]
  }
 ],
 "metadata": {
  "kernelspec": {
   "display_name": "base",
   "language": "python",
   "name": "python3"
  },
  "language_info": {
   "codemirror_mode": {
    "name": "ipython",
    "version": 3
   },
   "file_extension": ".py",
   "mimetype": "text/x-python",
   "name": "python",
   "nbconvert_exporter": "python",
   "pygments_lexer": "ipython3",
   "version": "3.12.6"
  }
 },
 "nbformat": 4,
 "nbformat_minor": 5
}
